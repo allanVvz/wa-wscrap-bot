{
  "nbformat": 4,
  "nbformat_minor": 0,
  "metadata": {
    "colab": {
      "provenance": [],
      "toc_visible": true,
      "include_colab_link": true
    },
    "kernelspec": {
      "name": "python3",
      "display_name": "Python 3"
    },
    "language_info": {
      "name": "python"
    }
  },
  "cells": [
    {
      "cell_type": "markdown",
      "metadata": {
        "id": "view-in-github",
        "colab_type": "text"
      },
      "source": [
        "<a href=\"https://colab.research.google.com/github/allanVvz/wa-wscrap-bot/blob/main/%5BONLINE%5D_Exemplo_1_Question_answering_com_BERT.ipynb\" target=\"_parent\"><img src=\"https://colab.research.google.com/assets/colab-badge.svg\" alt=\"Open In Colab\"/></a>"
      ]
    },
    {
      "cell_type": "markdown",
      "metadata": {
        "id": "vgBIf5iVvwOT"
      },
      "source": [
        "# Question-answering com o BERT\n",
        "## Tecnólogo em Inteligência Artificial Aplicada - Agentes Conversacionais\n",
        "Neste notebook iremos construir um agente de diálogo apoiado por modelos de linguagem avançados, baseados na arquitetura Transformers."
      ]
    },
    {
      "cell_type": "markdown",
      "metadata": {
        "id": "teSWS7PKxLgt"
      },
      "source": [
        "### Qual o contexto de nosso agente?\n",
        "\n",
        "Iremos desenvolver um agente de diálogo que responda perguntas do usuário sobre determinado tema, utilizando-se de uma API de acesso aos dados da Wikipedia e o um modelo de linguagem baseado em BERT."
      ]
    },
    {
      "cell_type": "markdown",
      "metadata": {
        "id": "ub_yjcgG0OaN"
      },
      "source": [
        "### Construindo o agente de diálogo\n",
        "Nosso agente vai operar da seguinte maneira:\n",
        "\n",
        "1.   Recebe entrada do usuário\n",
        "2.   Busca temas associados à paginas na Wikipedia\n",
        "3.   Obtém conteúdo associado ao tema\n",
        "4.   Recebe pergunta sobre o tema\n",
        "5.   Utiliza modelo BERT para procurar por resposta no texto da Wikipedia"
      ]
    },
    {
      "cell_type": "markdown",
      "metadata": {
        "id": "N7i3WYodNdug"
      },
      "source": [
        "#### Instalando dependências"
      ]
    },
    {
      "cell_type": "code",
      "metadata": {
        "id": "UmezZ6GawkpM",
        "outputId": "f4524d8e-67d1-43c3-c94e-7551c30185b7",
        "colab": {
          "base_uri": "https://localhost:8080/"
        }
      },
      "source": [
        "# É preciso instalar a biblioteca da arquitetura Transformers no Google Colab - e em seu ambiente também caso você execute localmente\n",
        "!pip install transformers"
      ],
      "execution_count": 1,
      "outputs": [
        {
          "output_type": "stream",
          "name": "stdout",
          "text": [
            "Requirement already satisfied: transformers in /usr/local/lib/python3.10/dist-packages (4.44.2)\n",
            "Requirement already satisfied: filelock in /usr/local/lib/python3.10/dist-packages (from transformers) (3.16.1)\n",
            "Requirement already satisfied: huggingface-hub<1.0,>=0.23.2 in /usr/local/lib/python3.10/dist-packages (from transformers) (0.24.7)\n",
            "Requirement already satisfied: numpy>=1.17 in /usr/local/lib/python3.10/dist-packages (from transformers) (1.26.4)\n",
            "Requirement already satisfied: packaging>=20.0 in /usr/local/lib/python3.10/dist-packages (from transformers) (24.1)\n",
            "Requirement already satisfied: pyyaml>=5.1 in /usr/local/lib/python3.10/dist-packages (from transformers) (6.0.2)\n",
            "Requirement already satisfied: regex!=2019.12.17 in /usr/local/lib/python3.10/dist-packages (from transformers) (2024.9.11)\n",
            "Requirement already satisfied: requests in /usr/local/lib/python3.10/dist-packages (from transformers) (2.32.3)\n",
            "Requirement already satisfied: safetensors>=0.4.1 in /usr/local/lib/python3.10/dist-packages (from transformers) (0.4.5)\n",
            "Requirement already satisfied: tokenizers<0.20,>=0.19 in /usr/local/lib/python3.10/dist-packages (from transformers) (0.19.1)\n",
            "Requirement already satisfied: tqdm>=4.27 in /usr/local/lib/python3.10/dist-packages (from transformers) (4.66.5)\n",
            "Requirement already satisfied: fsspec>=2023.5.0 in /usr/local/lib/python3.10/dist-packages (from huggingface-hub<1.0,>=0.23.2->transformers) (2024.6.1)\n",
            "Requirement already satisfied: typing-extensions>=3.7.4.3 in /usr/local/lib/python3.10/dist-packages (from huggingface-hub<1.0,>=0.23.2->transformers) (4.12.2)\n",
            "Requirement already satisfied: charset-normalizer<4,>=2 in /usr/local/lib/python3.10/dist-packages (from requests->transformers) (3.3.2)\n",
            "Requirement already satisfied: idna<4,>=2.5 in /usr/local/lib/python3.10/dist-packages (from requests->transformers) (3.10)\n",
            "Requirement already satisfied: urllib3<3,>=1.21.1 in /usr/local/lib/python3.10/dist-packages (from requests->transformers) (2.0.7)\n",
            "Requirement already satisfied: certifi>=2017.4.17 in /usr/local/lib/python3.10/dist-packages (from requests->transformers) (2024.8.30)\n"
          ]
        }
      ]
    },
    {
      "cell_type": "code",
      "metadata": {
        "id": "PEsQAMvM4j7c"
      },
      "source": [
        "# É preciso instalar a API de acesso à Wikipedia para facilitar nossas buscas\n",
        "!pip install wikipedia"
      ],
      "execution_count": null,
      "outputs": []
    },
    {
      "cell_type": "markdown",
      "metadata": {
        "id": "sBCT5xER0QwL"
      },
      "source": [
        "#### Importando as bibliotecas"
      ]
    },
    {
      "cell_type": "code",
      "metadata": {
        "id": "74SM-3Mdvm2v"
      },
      "source": [
        "import transformers\n",
        "from transformers import pipeline\n",
        "import wikipedia\n",
        "# Define idioma padrão\n",
        "wikipedia.set_lang(\"pt\")"
      ],
      "execution_count": null,
      "outputs": []
    },
    {
      "cell_type": "markdown",
      "metadata": {
        "id": "0GfbFnuq0fLT"
      },
      "source": [
        "#### Carrega modelo de question-answering do BERT para Português\n",
        "O modelo está disponível no [site da HuggingFace](https://huggingface.co/pierreguillou/bert-base-cased-squad-v1.1-portuguese), empresa mantenedora da biblioteca Transformers.\n",
        "\n",
        "Informações sobre como este modelo foi desenvolvido estão disponíveis [neste artigo](https://medium.com/@pierre_guillou/nlp-modelo-de-question-answering-em-qualquer-idioma-baseado-no-bert-base-estudo-de-caso-em-12093d385e78)."
      ]
    },
    {
      "cell_type": "code",
      "metadata": {
        "id": "MkCh2AOH00zp"
      },
      "source": [
        "# Define o TIPO e NOME do modelo que deseja-se carregar - o nome é definido no próprio site da Hugging Face\n",
        "nlp = pipeline(\"question-answering\", model='pierreguillou/bert-base-cased-squad-v1.1-portuguese')"
      ],
      "execution_count": null,
      "outputs": []
    },
    {
      "cell_type": "markdown",
      "metadata": {
        "id": "fBCJmU-q4Ezq"
      },
      "source": [
        "#### Função que obtém dados sobre o tema e responde às perguntas"
      ]
    },
    {
      "cell_type": "code",
      "metadata": {
        "id": "j9cKfA3a4E-s"
      },
      "source": [
        "def getResposta(entrada):\n",
        "\n",
        "  # Busca página relacionada ao tema informado pelo usuário - obtém apenas a primeira ocorrência\n",
        "  tema = wikipedia.search(entrada)[0]\n",
        "\n",
        "  # Obtém todo conteúdo da página\n",
        "  contexto = wikipedia.page(tema).content\n",
        "\n",
        "  while True:\n",
        "\n",
        "    # Pede que usuário faça pergunta sobre o tema\n",
        "    print(\"Agente Transformers: Faça-me uma pergunta sobre o tema {} ou digite 'voltar' para alterar o tema.\".format(tema))\n",
        "    pergunta = input().lower()\n",
        "\n",
        "    # Se usuário pedir para sair\n",
        "    if pergunta == 'voltar':\n",
        "      print(\"Agente Transformers: Sobre qual assunto você deseja falar?\")\n",
        "      return None\n",
        "\n",
        "    # Chama o pipeline dos Transformers - que já está com o modelo de question-answering carregado\n",
        "    resultado = nlp(question=pergunta, context=contexto)\n",
        "\n",
        "    print(f\"Agente Transformers: '{resultado['answer']}'\")\n",
        "    # Imprime score e dados adicionais\n",
        "    #print(f\"Score: {round(resultado['score'], 4)}, start: {resultado['start']}, end: {resultado['end']}\")\n",
        "\n"
      ],
      "execution_count": null,
      "outputs": []
    },
    {
      "cell_type": "markdown",
      "metadata": {
        "id": "58OgAEm51igh"
      },
      "source": [
        "#### Interagindo com o agente de diálogo\n",
        "O modelo pode demorar para responder, de acordo com o tamanho do contexto (i.e., página da Wikipedia).\n",
        "\n",
        "Exemplos de perguntas sobre \"**Pandemia de COVID-19**\":\n",
        "* O que é a pandemia de Covid-19?\n",
        "* A Covid-19 tem algo a ver com animais?\n",
        "* Onde foi descoberta a Covid-19?\n",
        "* Quantas mortes?\n",
        "\n",
        "Exemplos de perguntas sobre \"**Pelé**\":\n",
        "* Quantos gols Pelé fez?\n",
        "* Onde ele nasceu?\n",
        "* Por quais times ele jogou?\n",
        "\n",
        "Exemplos de perguntas sobre \"**Python**\":\n",
        "* Quem foi o criador do Python?\n",
        "* Qual a filosofia da linguagem\n",
        "* Qual a origem do nome?\n"
      ]
    },
    {
      "cell_type": "code",
      "metadata": {
        "id": "ysUQDNPw1ioS"
      },
      "source": [
        "continue_dialogue = True\n",
        "saudacao = \"Olá, eu sou o Agente Transformers. Sobre qual assunto você deseja falar?\"\n",
        "print(saudacao)\n",
        "while (continue_dialogue == True):\n",
        "  # Obtém entrada do usuário\n",
        "  entrada = input().lower()\n",
        "\n",
        "  if entrada not in ['tchau','adeus','até mais', 'até a próxima']:\n",
        "    if entrada in ['obrigado','muito obrigado','agradecido']:\n",
        "      continue_dialogue = False\n",
        "      print(\"Agente Transformers: Disponha\")\n",
        "    else:\n",
        "      if entrada in ['oi','oie','olá','e aí','bom dia','boa tarde', 'boa noite']:\n",
        "        print(\"Agente Transformers: \" + saudacao)\n",
        "      else:\n",
        "        # Caso não acione intenções de SAUDAÇÃO, AGRADECIMENTO ou DESPEDIDA\n",
        "        # Entra em intenção principal - Tema e respostas\n",
        "        getResposta(entrada)\n",
        "  else:\n",
        "    continue_dialogue = False\n",
        "    print(\"Agente Transformers: Até a próxima.\")"
      ],
      "execution_count": null,
      "outputs": []
    },
    {
      "cell_type": "markdown",
      "metadata": {
        "id": "E8udMlsd2JqX"
      },
      "source": [
        "### O que pode ser feito agora?\n",
        "\n",
        "* Poderíamos utilizar o RASA ou o DialogFlow para implementar de maneira mais fácil o gerenciamento de diálogo e NLU de nosso agente, e customizar o acesso aos Tranformers utilizando actions customizadas (RASA) ou fullfilments (DialogFlow).\n",
        "* Fazer desambiguação de temas sugeridos pelo usuário - a função search() retorna uma lista de páginas de wikipedia possíveis\n",
        "* Tentar utilizar outros modelos baseados em Transformers ou Machine Learning em geral, como [este](https://huggingface.co/mrm8488/bert-base-portuguese-cased-finetuned-squad-v1-pt).\n"
      ]
    },
    {
      "cell_type": "markdown",
      "metadata": {
        "id": "cLr9oSW6wI7O"
      },
      "source": [
        "## Referências e Material complementar\n",
        "\n",
        "* [NLP | Modelo de Question Answering em qualquer idioma baseado no BERT base (estudo de caso em português)](https://medium.com/@pierre_guillou/nlp-modelo-de-question-answering-em-qualquer-idioma-baseado-no-bert-base-estudo-de-caso-em-12093d385e78)\n",
        "* [Hugging Face - Portuguese BERT base cased QA (Question Answering), finetuned on SQUAD v1.1](https://huggingface.co/pierreguillou/bert-base-cased-squad-v1.1-portuguese)\n",
        "* [The Illustrated BERT, ELMo, and co. (How NLP Cracked Transfer Learning)](http://jalammar.github.io/illustrated-bert/)"
      ]
    },
    {
      "cell_type": "markdown",
      "metadata": {
        "id": "aw4G0zq_wJCR"
      },
      "source": [
        "Este notebook foi produzido por Prof. [Lucas Oliveira](http://lattes.cnpq.br/3611246009892500)."
      ]
    }
  ]
}